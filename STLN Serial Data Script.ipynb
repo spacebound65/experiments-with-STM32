{
 "cells": [
  {
   "cell_type": "code",
   "execution_count": 80,
   "id": "f69352db",
   "metadata": {},
   "outputs": [],
   "source": [
    "import numpy as np\n",
    "import matplotlib.pyplot as plt\n",
    "import regex as re\n",
    "import csv"
   ]
  },
  {
   "cell_type": "code",
   "execution_count": 2,
   "id": "e19e50b3",
   "metadata": {},
   "outputs": [
    {
     "ename": "NameError",
     "evalue": "name 'serial' is not defined",
     "output_type": "error",
     "traceback": [
      "\u001b[0;31m---------------------------------------------------------------------------\u001b[0m",
      "\u001b[0;31mNameError\u001b[0m                                 Traceback (most recent call last)",
      "\u001b[0;32m/var/folders/31/g8q8z0tn49d13lh8596n7nlm0000gn/T/ipykernel_63100/1898552258.py\u001b[0m in \u001b[0;36m<module>\u001b[0;34m\u001b[0m\n\u001b[1;32m      8\u001b[0m \u001b[0;31m#\u001b[0m\u001b[0;34m\u001b[0m\u001b[0;34m\u001b[0m\u001b[0m\n\u001b[1;32m      9\u001b[0m \u001b[0;34m\u001b[0m\u001b[0m\n\u001b[0;32m---> 10\u001b[0;31m \u001b[0mser\u001b[0m \u001b[0;34m=\u001b[0m \u001b[0mserial\u001b[0m\u001b[0;34m.\u001b[0m\u001b[0mSerial\u001b[0m\u001b[0;34m(\u001b[0m\u001b[0;34m)\u001b[0m\u001b[0;34m\u001b[0m\u001b[0;34m\u001b[0m\u001b[0m\n\u001b[0m\u001b[1;32m     11\u001b[0m \u001b[0mser\u001b[0m\u001b[0;34m.\u001b[0m\u001b[0mbaudrate\u001b[0m \u001b[0;34m=\u001b[0m \u001b[0;36m115200\u001b[0m\u001b[0;34m\u001b[0m\u001b[0;34m\u001b[0m\u001b[0m\n\u001b[1;32m     12\u001b[0m \u001b[0mser\u001b[0m\u001b[0;34m.\u001b[0m\u001b[0mport\u001b[0m \u001b[0;34m=\u001b[0m \u001b[0;34m'COM3'\u001b[0m\u001b[0;34m\u001b[0m\u001b[0;34m\u001b[0m\u001b[0m\n",
      "\u001b[0;31mNameError\u001b[0m: name 'serial' is not defined"
     ]
    }
   ],
   "source": [
    "# doesn't work in Seth's Jupyter Notebook, but this is used in the Windows command prompt\n",
    "\n",
    "# reads data from the serial port, preferably on windows\n",
    "\n",
    "#\n",
    "# NOTE: The serial port cannot be monitored by two programs at once\n",
    "# That is to say, you cannot use SerialPy and PuTTY at once\n",
    "#\n",
    "import serial\n",
    "\n",
    "ser = serial.Serial()\n",
    "ser.baudrate = 115200\n",
    "ser.port = 'COM3'\n",
    "\n",
    "ser.open()\n",
    "\n",
    "def read(num):\n",
    "    \"\"\"Reads the input a user-specified number of times\"\"\"\n",
    "    readings = [None] * num\n",
    "    for i in range(num):\n",
    "        line = ser.readline()\n",
    "        readings[i] = line\n",
    "    return readings"
   ]
  },
  {
   "cell_type": "code",
   "execution_count": 25,
   "id": "fb710e09",
   "metadata": {},
   "outputs": [
    {
     "name": "stdout",
     "output_type": "stream",
     "text": [
      "How long is each cycle?3\n",
      "What is the threshold temperature?298.15\n"
     ]
    }
   ],
   "source": [
    "cycletime = input(\"How long is each cycle? (seconds)\")\n",
    "thresh = input(\"What is the threshold temperature? (Kelvin)\")"
   ]
  },
  {
   "cell_type": "code",
   "execution_count": 81,
   "id": "2d445f26",
   "metadata": {},
   "outputs": [],
   "source": [
    "lines = [b'Cyclecount1,Heatcount1,1,Temperature1908,\\n', b'Cyclecount1,Heatcount1,1,Temperature1879,\\n', b'Cyclecount2,Heatcount2,1,Temperature1895,\\n', b'Cyclecount3,Heatcount3,1,Temperature1899,\\n', b'Cyclecount4,Heatcount4,1,Temperature1906,\\n', b'Cyclecount5,Heatcount5,1,Temperature1906,\\n', b'Cyclecount6,Heatcount6,1,Temperature1500,\\n', b'Cyclecount7,Heatcount7,1,Temperature1094,\\n', b'Cyclecount8,Heatcount8,1,Temperature1332,\\n', b'Cyclecount9,Heatcount9,1,Temperature2901,\\n', b'Cyclecount10,Heatcount10,1,Temperature2900,\\n', b'Cyclecount11,Heatcount10,0,Temperature4031,\\n', b'Cyclecount12,Heatcount10,0,Temperature4027,\\n', b'Cyclecount13,Heatcount10,0,Temperature4028,\\n', b'Cyclecount14,Heatcount10,0,Temperature4027,\\n', b'Cyclecount15,Heatcount10,0,Temperature4028,\\n', b'Cyclecount16,Heatcount10,0,Temperature4023,\\n', b'Cyclecount17,Heatcount10,0,Temperature4024,\\n', b'Cyclecount18,Heatcount10,0,Temperature4024,\\n', b'Cyclecount19,Heatcount11,1,Temperature1433,\\n', b'Cyclecount20,Heatcount12,1,Temperature1094,\\n', b'Cyclecount21,Heatcount13,1,Temperature1085,\\n', b'Cyclecount22,Heatcount14,1,Temperature1093,\\n', b'Cyclecount23,Heatcount15,1,Temperature1128,\\n', b'Cyclecount24,Heatcount16,1,Temperature2074,\\n', b'Cyclecount25,Heatcount17,1,Temperature2090,\\n', b'Cyclecount26,Heatcount18,1,Temperature2083,\\n', b'Cyclecount27,Heatcount19,1,Temperature2082,\\n', b'Cyclecount28,Heatcount20,1,Temperature2081,\\n', b'Cyclecount29,Heatcount21,1,Temperature1783,\\n', b'Cyclecount30,Heatcount22,1,Temperature1000,\\n', b'Cyclecount31,Heatcount23,1,Temperature833,\\n', b'Cyclecount32,Heatcount24,1,Temperature832,\\n', b'Cyclecount33,Heatcount25,1,Temperature823,\\n', b'Cyclecount34,Heatcount26,1,Temperature923,\\n', b'Cyclecount35,Heatcount27,1,Temperature1377,\\n', b'Cyclecount36,Heatcount27,0,Temperature4044,\\n', b'Cyclecount37,Heatcount28,1,Temperature1862,\\n', b'Cyclecount38,Heatcount28,0,Temperature4030,\\n', b'Cyclecount39,Heatcount29,1,Temperature1363,\\n', b'Cyclecount40,Heatcount30,1,Temperature1352,\\n', b'Cyclecount41,Heatcount31,1,Temperature2116,\\n', b'Cyclecount42,Heatcount32,1,Temperature2105,\\n', b'Cyclecount43,Heatcount32,0,Temperature4031,\\n', b'Cyclecount44,Heatcount32,0,Temperature3998,\\n', b'Cyclecount45,Heatcount33,1,Temperature1191,\\n', b'Cyclecount46,Heatcount34,1,Temperature1322,\\n', b'Cyclecount47,Heatcount34,0,Temperature3411,\\n', b'Cyclecount48,Heatcount35,1,Temperature1273,\\n', b'Cyclecount49,Heatcount36,1,Temperature1497,\\n', b'Cyclecount50,Heatcount36,0,Temperature4031,\\n', b'Cyclecount51,Heatcount37,1,Temperature1364,\\n', b'Cyclecount52,Heatcount38,1,Temperature2935,\\n', b'Cyclecount53,Heatcount39,1,Temperature2943,\\n', b'Cyclecount54,Heatcount40,1,Temperature2948,\\n', b'Cyclecount55,Heatcount40,0,Temperature4030,\\n', b'Cyclecount56,Heatcount40,0,Temperature4027,\\n', b'Cyclecount57,Heatcount40,0,Temperature4028,\\n', b'Cyclecount58,Heatcount40,0,Temperature4027,\\n', b'Cyclecount59,Heatcount40,0,Temperature4024,\\n', b'Cyclecount60,Heatcount40,0,Temperature4006,\\n', b'Cyclecount61,Heatcount41,1,Temperature1386,\\n', b'Cyclecount62,Heatcount42,1,Temperature1013,\\n', b'Cyclecount63,Heatcount43,1,Temperature1022,\\n', b'Cyclecount64,Heatcount44,1,Temperature1014,\\n', b'Cyclecount65,Heatcount45,1,Temperature1013,\\n', b'Cyclecount66,Heatcount46,1,Temperature1022,\\n', b'Cyclecount67,Heatcount47,1,Temperature1021,\\n', b'Cyclecount68,Heatcount48,1,Temperature1012,\\n', b'Cyclecount69,Heatcount49,1,Temperature1012,\\n', b'Cyclecount70,Heatcount50,1,Temperature1011,\\n', b'Cyclecount71,Heatcount51,1,Temperature1020,\\n', b'Cyclecount72,Heatcount52,1,Temperature1019,\\n', b'Cyclecount73,Heatcount53,1,Temperature1019,\\n', b'Cyclecount74,Heatcount54,1,Temperature1020,\\n', b'Cyclecount75,Heatcount55,1,Temperature1011,\\n', b'Cyclecount76,Heatcount56,1,Temperature1009,\\n', b'Cyclecount77,Heatcount57,1,Temperature1008,\\n', b'Cyclecount78,Heatcount58,1,Temperature816,\\n', b'Cyclecount79,Heatcount59,1,Temperature770,\\n', b'Cyclecount80,Heatcount60,1,Temperature805,\\n', b'Cyclecount81,Heatcount61,1,Temperature1020,\\n', b'Cyclecount82,Heatcount62,1,Temperature1660,\\n', b'Cyclecount83,Heatcount62,0,Temperature4031,\\n', b'Cyclecount84,Heatcount63,1,Temperature2327,\\n', b'Cyclecount85,Heatcount63,0,Temperature4030,\\n', b'Cyclecount86,Heatcount63,0,Temperature4025,\\n', b'Cyclecount87,Heatcount63,0,Temperature4024,\\n', b'Cyclecount88,Heatcount63,0,Temperature4026,\\n', b'Cyclecount89,Heatcount63,0,Temperature4023,\\n', b'Cyclecount90,Heatcount63,0,Temperature4024,\\n', b'Cyclecount91,Heatcount63,0,Temperature4026,\\n', b'Cyclecount92,Heatcount63,0,Temperature4024,\\n', b'Cyclecount93,Heatcount63,0,Temperature4026,\\n', b'Cyclecount94,Heatcount63,0,Temperature4025,\\n', b'Cyclecount95,Heatcount63,0,Temperature4026,\\n', b'Cyclecount96,Heatcount63,0,Temperature4026,\\n', b'Cyclecount97,Heatcount63,0,Temperature4025,\\n', b'Cyclecount98,Heatcount63,0,Temperature4024,\\n', b'Cyclecount99,Heatcount63,0,Temperature4025,\\n']"
   ]
  },
  {
   "cell_type": "code",
   "execution_count": 82,
   "id": "8f447b99",
   "metadata": {
    "scrolled": true
   },
   "outputs": [
    {
     "data": {
      "text/plain": [
       "[b'Cyclecount1,Heatcount1,1,Temperature1908,\\n',\n",
       " b'Cyclecount1,Heatcount1,1,Temperature1879,\\n',\n",
       " b'Cyclecount2,Heatcount2,1,Temperature1895,\\n',\n",
       " b'Cyclecount3,Heatcount3,1,Temperature1899,\\n',\n",
       " b'Cyclecount4,Heatcount4,1,Temperature1906,\\n',\n",
       " b'Cyclecount5,Heatcount5,1,Temperature1906,\\n',\n",
       " b'Cyclecount6,Heatcount6,1,Temperature1500,\\n',\n",
       " b'Cyclecount7,Heatcount7,1,Temperature1094,\\n',\n",
       " b'Cyclecount8,Heatcount8,1,Temperature1332,\\n',\n",
       " b'Cyclecount9,Heatcount9,1,Temperature2901,\\n',\n",
       " b'Cyclecount10,Heatcount10,1,Temperature2900,\\n',\n",
       " b'Cyclecount11,Heatcount10,0,Temperature4031,\\n',\n",
       " b'Cyclecount12,Heatcount10,0,Temperature4027,\\n',\n",
       " b'Cyclecount13,Heatcount10,0,Temperature4028,\\n',\n",
       " b'Cyclecount14,Heatcount10,0,Temperature4027,\\n',\n",
       " b'Cyclecount15,Heatcount10,0,Temperature4028,\\n',\n",
       " b'Cyclecount16,Heatcount10,0,Temperature4023,\\n',\n",
       " b'Cyclecount17,Heatcount10,0,Temperature4024,\\n',\n",
       " b'Cyclecount18,Heatcount10,0,Temperature4024,\\n',\n",
       " b'Cyclecount19,Heatcount11,1,Temperature1433,\\n',\n",
       " b'Cyclecount20,Heatcount12,1,Temperature1094,\\n',\n",
       " b'Cyclecount21,Heatcount13,1,Temperature1085,\\n',\n",
       " b'Cyclecount22,Heatcount14,1,Temperature1093,\\n',\n",
       " b'Cyclecount23,Heatcount15,1,Temperature1128,\\n',\n",
       " b'Cyclecount24,Heatcount16,1,Temperature2074,\\n',\n",
       " b'Cyclecount25,Heatcount17,1,Temperature2090,\\n',\n",
       " b'Cyclecount26,Heatcount18,1,Temperature2083,\\n',\n",
       " b'Cyclecount27,Heatcount19,1,Temperature2082,\\n',\n",
       " b'Cyclecount28,Heatcount20,1,Temperature2081,\\n',\n",
       " b'Cyclecount29,Heatcount21,1,Temperature1783,\\n',\n",
       " b'Cyclecount30,Heatcount22,1,Temperature1000,\\n',\n",
       " b'Cyclecount31,Heatcount23,1,Temperature833,\\n',\n",
       " b'Cyclecount32,Heatcount24,1,Temperature832,\\n',\n",
       " b'Cyclecount33,Heatcount25,1,Temperature823,\\n',\n",
       " b'Cyclecount34,Heatcount26,1,Temperature923,\\n',\n",
       " b'Cyclecount35,Heatcount27,1,Temperature1377,\\n',\n",
       " b'Cyclecount36,Heatcount27,0,Temperature4044,\\n',\n",
       " b'Cyclecount37,Heatcount28,1,Temperature1862,\\n',\n",
       " b'Cyclecount38,Heatcount28,0,Temperature4030,\\n',\n",
       " b'Cyclecount39,Heatcount29,1,Temperature1363,\\n',\n",
       " b'Cyclecount40,Heatcount30,1,Temperature1352,\\n',\n",
       " b'Cyclecount41,Heatcount31,1,Temperature2116,\\n',\n",
       " b'Cyclecount42,Heatcount32,1,Temperature2105,\\n',\n",
       " b'Cyclecount43,Heatcount32,0,Temperature4031,\\n',\n",
       " b'Cyclecount44,Heatcount32,0,Temperature3998,\\n',\n",
       " b'Cyclecount45,Heatcount33,1,Temperature1191,\\n',\n",
       " b'Cyclecount46,Heatcount34,1,Temperature1322,\\n',\n",
       " b'Cyclecount47,Heatcount34,0,Temperature3411,\\n',\n",
       " b'Cyclecount48,Heatcount35,1,Temperature1273,\\n',\n",
       " b'Cyclecount49,Heatcount36,1,Temperature1497,\\n',\n",
       " b'Cyclecount50,Heatcount36,0,Temperature4031,\\n',\n",
       " b'Cyclecount51,Heatcount37,1,Temperature1364,\\n',\n",
       " b'Cyclecount52,Heatcount38,1,Temperature2935,\\n',\n",
       " b'Cyclecount53,Heatcount39,1,Temperature2943,\\n',\n",
       " b'Cyclecount54,Heatcount40,1,Temperature2948,\\n',\n",
       " b'Cyclecount55,Heatcount40,0,Temperature4030,\\n',\n",
       " b'Cyclecount56,Heatcount40,0,Temperature4027,\\n',\n",
       " b'Cyclecount57,Heatcount40,0,Temperature4028,\\n',\n",
       " b'Cyclecount58,Heatcount40,0,Temperature4027,\\n',\n",
       " b'Cyclecount59,Heatcount40,0,Temperature4024,\\n',\n",
       " b'Cyclecount60,Heatcount40,0,Temperature4006,\\n',\n",
       " b'Cyclecount61,Heatcount41,1,Temperature1386,\\n',\n",
       " b'Cyclecount62,Heatcount42,1,Temperature1013,\\n',\n",
       " b'Cyclecount63,Heatcount43,1,Temperature1022,\\n',\n",
       " b'Cyclecount64,Heatcount44,1,Temperature1014,\\n',\n",
       " b'Cyclecount65,Heatcount45,1,Temperature1013,\\n',\n",
       " b'Cyclecount66,Heatcount46,1,Temperature1022,\\n',\n",
       " b'Cyclecount67,Heatcount47,1,Temperature1021,\\n',\n",
       " b'Cyclecount68,Heatcount48,1,Temperature1012,\\n',\n",
       " b'Cyclecount69,Heatcount49,1,Temperature1012,\\n',\n",
       " b'Cyclecount70,Heatcount50,1,Temperature1011,\\n',\n",
       " b'Cyclecount71,Heatcount51,1,Temperature1020,\\n',\n",
       " b'Cyclecount72,Heatcount52,1,Temperature1019,\\n',\n",
       " b'Cyclecount73,Heatcount53,1,Temperature1019,\\n',\n",
       " b'Cyclecount74,Heatcount54,1,Temperature1020,\\n',\n",
       " b'Cyclecount75,Heatcount55,1,Temperature1011,\\n',\n",
       " b'Cyclecount76,Heatcount56,1,Temperature1009,\\n',\n",
       " b'Cyclecount77,Heatcount57,1,Temperature1008,\\n',\n",
       " b'Cyclecount78,Heatcount58,1,Temperature816,\\n',\n",
       " b'Cyclecount79,Heatcount59,1,Temperature770,\\n',\n",
       " b'Cyclecount80,Heatcount60,1,Temperature805,\\n',\n",
       " b'Cyclecount81,Heatcount61,1,Temperature1020,\\n',\n",
       " b'Cyclecount82,Heatcount62,1,Temperature1660,\\n',\n",
       " b'Cyclecount83,Heatcount62,0,Temperature4031,\\n',\n",
       " b'Cyclecount84,Heatcount63,1,Temperature2327,\\n',\n",
       " b'Cyclecount85,Heatcount63,0,Temperature4030,\\n',\n",
       " b'Cyclecount86,Heatcount63,0,Temperature4025,\\n',\n",
       " b'Cyclecount87,Heatcount63,0,Temperature4024,\\n',\n",
       " b'Cyclecount88,Heatcount63,0,Temperature4026,\\n',\n",
       " b'Cyclecount89,Heatcount63,0,Temperature4023,\\n',\n",
       " b'Cyclecount90,Heatcount63,0,Temperature4024,\\n',\n",
       " b'Cyclecount91,Heatcount63,0,Temperature4026,\\n',\n",
       " b'Cyclecount92,Heatcount63,0,Temperature4024,\\n',\n",
       " b'Cyclecount93,Heatcount63,0,Temperature4026,\\n',\n",
       " b'Cyclecount94,Heatcount63,0,Temperature4025,\\n',\n",
       " b'Cyclecount95,Heatcount63,0,Temperature4026,\\n',\n",
       " b'Cyclecount96,Heatcount63,0,Temperature4026,\\n',\n",
       " b'Cyclecount97,Heatcount63,0,Temperature4025,\\n',\n",
       " b'Cyclecount98,Heatcount63,0,Temperature4024,\\n',\n",
       " b'Cyclecount99,Heatcount63,0,Temperature4025,\\n']"
      ]
     },
     "execution_count": 82,
     "metadata": {},
     "output_type": "execute_result"
    }
   ],
   "source": [
    "lines"
   ]
  },
  {
   "cell_type": "code",
   "execution_count": 83,
   "id": "18dd4ec3",
   "metadata": {
    "scrolled": true
   },
   "outputs": [
    {
     "name": "stdout",
     "output_type": "stream",
     "text": [
      "b'Cyclecount1,Heatcount1,1,Temperature1908,\\n'\n",
      "b'Cyclecount1,Heatcount1,1,Temperature1879,\\n'\n",
      "b'Cyclecount2,Heatcount2,1,Temperature1895,\\n'\n",
      "b'Cyclecount3,Heatcount3,1,Temperature1899,\\n'\n",
      "b'Cyclecount4,Heatcount4,1,Temperature1906,\\n'\n",
      "b'Cyclecount5,Heatcount5,1,Temperature1906,\\n'\n",
      "b'Cyclecount6,Heatcount6,1,Temperature1500,\\n'\n",
      "b'Cyclecount7,Heatcount7,1,Temperature1094,\\n'\n",
      "b'Cyclecount8,Heatcount8,1,Temperature1332,\\n'\n",
      "b'Cyclecount9,Heatcount9,1,Temperature2901,\\n'\n",
      "b'Cyclecount10,Heatcount10,1,Temperature2900,\\n'\n",
      "b'Cyclecount11,Heatcount10,0,Temperature4031,\\n'\n",
      "b'Cyclecount12,Heatcount10,0,Temperature4027,\\n'\n",
      "b'Cyclecount13,Heatcount10,0,Temperature4028,\\n'\n",
      "b'Cyclecount14,Heatcount10,0,Temperature4027,\\n'\n",
      "b'Cyclecount15,Heatcount10,0,Temperature4028,\\n'\n",
      "b'Cyclecount16,Heatcount10,0,Temperature4023,\\n'\n",
      "b'Cyclecount17,Heatcount10,0,Temperature4024,\\n'\n",
      "b'Cyclecount18,Heatcount10,0,Temperature4024,\\n'\n",
      "b'Cyclecount19,Heatcount11,1,Temperature1433,\\n'\n",
      "b'Cyclecount20,Heatcount12,1,Temperature1094,\\n'\n",
      "b'Cyclecount21,Heatcount13,1,Temperature1085,\\n'\n",
      "b'Cyclecount22,Heatcount14,1,Temperature1093,\\n'\n",
      "b'Cyclecount23,Heatcount15,1,Temperature1128,\\n'\n",
      "b'Cyclecount24,Heatcount16,1,Temperature2074,\\n'\n",
      "b'Cyclecount25,Heatcount17,1,Temperature2090,\\n'\n",
      "b'Cyclecount26,Heatcount18,1,Temperature2083,\\n'\n",
      "b'Cyclecount27,Heatcount19,1,Temperature2082,\\n'\n",
      "b'Cyclecount28,Heatcount20,1,Temperature2081,\\n'\n",
      "b'Cyclecount29,Heatcount21,1,Temperature1783,\\n'\n",
      "b'Cyclecount30,Heatcount22,1,Temperature1000,\\n'\n",
      "b'Cyclecount31,Heatcount23,1,Temperature833,\\n'\n",
      "b'Cyclecount32,Heatcount24,1,Temperature832,\\n'\n",
      "b'Cyclecount33,Heatcount25,1,Temperature823,\\n'\n",
      "b'Cyclecount34,Heatcount26,1,Temperature923,\\n'\n",
      "b'Cyclecount35,Heatcount27,1,Temperature1377,\\n'\n",
      "b'Cyclecount36,Heatcount27,0,Temperature4044,\\n'\n",
      "b'Cyclecount37,Heatcount28,1,Temperature1862,\\n'\n",
      "b'Cyclecount38,Heatcount28,0,Temperature4030,\\n'\n",
      "b'Cyclecount39,Heatcount29,1,Temperature1363,\\n'\n",
      "b'Cyclecount40,Heatcount30,1,Temperature1352,\\n'\n",
      "b'Cyclecount41,Heatcount31,1,Temperature2116,\\n'\n",
      "b'Cyclecount42,Heatcount32,1,Temperature2105,\\n'\n",
      "b'Cyclecount43,Heatcount32,0,Temperature4031,\\n'\n",
      "b'Cyclecount44,Heatcount32,0,Temperature3998,\\n'\n",
      "b'Cyclecount45,Heatcount33,1,Temperature1191,\\n'\n",
      "b'Cyclecount46,Heatcount34,1,Temperature1322,\\n'\n",
      "b'Cyclecount47,Heatcount34,0,Temperature3411,\\n'\n",
      "b'Cyclecount48,Heatcount35,1,Temperature1273,\\n'\n",
      "b'Cyclecount49,Heatcount36,1,Temperature1497,\\n'\n",
      "b'Cyclecount50,Heatcount36,0,Temperature4031,\\n'\n",
      "b'Cyclecount51,Heatcount37,1,Temperature1364,\\n'\n",
      "b'Cyclecount52,Heatcount38,1,Temperature2935,\\n'\n",
      "b'Cyclecount53,Heatcount39,1,Temperature2943,\\n'\n",
      "b'Cyclecount54,Heatcount40,1,Temperature2948,\\n'\n",
      "b'Cyclecount55,Heatcount40,0,Temperature4030,\\n'\n",
      "b'Cyclecount56,Heatcount40,0,Temperature4027,\\n'\n",
      "b'Cyclecount57,Heatcount40,0,Temperature4028,\\n'\n",
      "b'Cyclecount58,Heatcount40,0,Temperature4027,\\n'\n",
      "b'Cyclecount59,Heatcount40,0,Temperature4024,\\n'\n",
      "b'Cyclecount60,Heatcount40,0,Temperature4006,\\n'\n",
      "b'Cyclecount61,Heatcount41,1,Temperature1386,\\n'\n",
      "b'Cyclecount62,Heatcount42,1,Temperature1013,\\n'\n",
      "b'Cyclecount63,Heatcount43,1,Temperature1022,\\n'\n",
      "b'Cyclecount64,Heatcount44,1,Temperature1014,\\n'\n",
      "b'Cyclecount65,Heatcount45,1,Temperature1013,\\n'\n",
      "b'Cyclecount66,Heatcount46,1,Temperature1022,\\n'\n",
      "b'Cyclecount67,Heatcount47,1,Temperature1021,\\n'\n",
      "b'Cyclecount68,Heatcount48,1,Temperature1012,\\n'\n",
      "b'Cyclecount69,Heatcount49,1,Temperature1012,\\n'\n",
      "b'Cyclecount70,Heatcount50,1,Temperature1011,\\n'\n",
      "b'Cyclecount71,Heatcount51,1,Temperature1020,\\n'\n",
      "b'Cyclecount72,Heatcount52,1,Temperature1019,\\n'\n",
      "b'Cyclecount73,Heatcount53,1,Temperature1019,\\n'\n",
      "b'Cyclecount74,Heatcount54,1,Temperature1020,\\n'\n",
      "b'Cyclecount75,Heatcount55,1,Temperature1011,\\n'\n",
      "b'Cyclecount76,Heatcount56,1,Temperature1009,\\n'\n",
      "b'Cyclecount77,Heatcount57,1,Temperature1008,\\n'\n",
      "b'Cyclecount78,Heatcount58,1,Temperature816,\\n'\n",
      "b'Cyclecount79,Heatcount59,1,Temperature770,\\n'\n",
      "b'Cyclecount80,Heatcount60,1,Temperature805,\\n'\n",
      "b'Cyclecount81,Heatcount61,1,Temperature1020,\\n'\n",
      "b'Cyclecount82,Heatcount62,1,Temperature1660,\\n'\n",
      "b'Cyclecount83,Heatcount62,0,Temperature4031,\\n'\n",
      "b'Cyclecount84,Heatcount63,1,Temperature2327,\\n'\n",
      "b'Cyclecount85,Heatcount63,0,Temperature4030,\\n'\n",
      "b'Cyclecount86,Heatcount63,0,Temperature4025,\\n'\n",
      "b'Cyclecount87,Heatcount63,0,Temperature4024,\\n'\n",
      "b'Cyclecount88,Heatcount63,0,Temperature4026,\\n'\n",
      "b'Cyclecount89,Heatcount63,0,Temperature4023,\\n'\n",
      "b'Cyclecount90,Heatcount63,0,Temperature4024,\\n'\n",
      "b'Cyclecount91,Heatcount63,0,Temperature4026,\\n'\n",
      "b'Cyclecount92,Heatcount63,0,Temperature4024,\\n'\n",
      "b'Cyclecount93,Heatcount63,0,Temperature4026,\\n'\n",
      "b'Cyclecount94,Heatcount63,0,Temperature4025,\\n'\n",
      "b'Cyclecount95,Heatcount63,0,Temperature4026,\\n'\n",
      "b'Cyclecount96,Heatcount63,0,Temperature4026,\\n'\n",
      "b'Cyclecount97,Heatcount63,0,Temperature4025,\\n'\n",
      "b'Cyclecount98,Heatcount63,0,Temperature4024,\\n'\n",
      "b'Cyclecount99,Heatcount63,0,Temperature4025,\\n'\n"
     ]
    }
   ],
   "source": [
    "for i in lines:\n",
    "    print(i)"
   ]
  },
  {
   "cell_type": "code",
   "execution_count": 84,
   "id": "fb5264c1",
   "metadata": {
    "scrolled": true
   },
   "outputs": [
    {
     "data": {
      "text/plain": [
       "[[\"b'Cyclecount1\", 'Heatcount1', '1', 'Temperature1908', \"\\\\n'\"],\n",
       " [\"b'Cyclecount1\", 'Heatcount1', '1', 'Temperature1879', \"\\\\n'\"],\n",
       " [\"b'Cyclecount2\", 'Heatcount2', '1', 'Temperature1895', \"\\\\n'\"],\n",
       " [\"b'Cyclecount3\", 'Heatcount3', '1', 'Temperature1899', \"\\\\n'\"],\n",
       " [\"b'Cyclecount4\", 'Heatcount4', '1', 'Temperature1906', \"\\\\n'\"],\n",
       " [\"b'Cyclecount5\", 'Heatcount5', '1', 'Temperature1906', \"\\\\n'\"],\n",
       " [\"b'Cyclecount6\", 'Heatcount6', '1', 'Temperature1500', \"\\\\n'\"],\n",
       " [\"b'Cyclecount7\", 'Heatcount7', '1', 'Temperature1094', \"\\\\n'\"],\n",
       " [\"b'Cyclecount8\", 'Heatcount8', '1', 'Temperature1332', \"\\\\n'\"],\n",
       " [\"b'Cyclecount9\", 'Heatcount9', '1', 'Temperature2901', \"\\\\n'\"],\n",
       " [\"b'Cyclecount10\", 'Heatcount10', '1', 'Temperature2900', \"\\\\n'\"],\n",
       " [\"b'Cyclecount11\", 'Heatcount10', '0', 'Temperature4031', \"\\\\n'\"],\n",
       " [\"b'Cyclecount12\", 'Heatcount10', '0', 'Temperature4027', \"\\\\n'\"],\n",
       " [\"b'Cyclecount13\", 'Heatcount10', '0', 'Temperature4028', \"\\\\n'\"],\n",
       " [\"b'Cyclecount14\", 'Heatcount10', '0', 'Temperature4027', \"\\\\n'\"],\n",
       " [\"b'Cyclecount15\", 'Heatcount10', '0', 'Temperature4028', \"\\\\n'\"],\n",
       " [\"b'Cyclecount16\", 'Heatcount10', '0', 'Temperature4023', \"\\\\n'\"],\n",
       " [\"b'Cyclecount17\", 'Heatcount10', '0', 'Temperature4024', \"\\\\n'\"],\n",
       " [\"b'Cyclecount18\", 'Heatcount10', '0', 'Temperature4024', \"\\\\n'\"],\n",
       " [\"b'Cyclecount19\", 'Heatcount11', '1', 'Temperature1433', \"\\\\n'\"],\n",
       " [\"b'Cyclecount20\", 'Heatcount12', '1', 'Temperature1094', \"\\\\n'\"],\n",
       " [\"b'Cyclecount21\", 'Heatcount13', '1', 'Temperature1085', \"\\\\n'\"],\n",
       " [\"b'Cyclecount22\", 'Heatcount14', '1', 'Temperature1093', \"\\\\n'\"],\n",
       " [\"b'Cyclecount23\", 'Heatcount15', '1', 'Temperature1128', \"\\\\n'\"],\n",
       " [\"b'Cyclecount24\", 'Heatcount16', '1', 'Temperature2074', \"\\\\n'\"],\n",
       " [\"b'Cyclecount25\", 'Heatcount17', '1', 'Temperature2090', \"\\\\n'\"],\n",
       " [\"b'Cyclecount26\", 'Heatcount18', '1', 'Temperature2083', \"\\\\n'\"],\n",
       " [\"b'Cyclecount27\", 'Heatcount19', '1', 'Temperature2082', \"\\\\n'\"],\n",
       " [\"b'Cyclecount28\", 'Heatcount20', '1', 'Temperature2081', \"\\\\n'\"],\n",
       " [\"b'Cyclecount29\", 'Heatcount21', '1', 'Temperature1783', \"\\\\n'\"],\n",
       " [\"b'Cyclecount30\", 'Heatcount22', '1', 'Temperature1000', \"\\\\n'\"],\n",
       " [\"b'Cyclecount31\", 'Heatcount23', '1', 'Temperature833', \"\\\\n'\"],\n",
       " [\"b'Cyclecount32\", 'Heatcount24', '1', 'Temperature832', \"\\\\n'\"],\n",
       " [\"b'Cyclecount33\", 'Heatcount25', '1', 'Temperature823', \"\\\\n'\"],\n",
       " [\"b'Cyclecount34\", 'Heatcount26', '1', 'Temperature923', \"\\\\n'\"],\n",
       " [\"b'Cyclecount35\", 'Heatcount27', '1', 'Temperature1377', \"\\\\n'\"],\n",
       " [\"b'Cyclecount36\", 'Heatcount27', '0', 'Temperature4044', \"\\\\n'\"],\n",
       " [\"b'Cyclecount37\", 'Heatcount28', '1', 'Temperature1862', \"\\\\n'\"],\n",
       " [\"b'Cyclecount38\", 'Heatcount28', '0', 'Temperature4030', \"\\\\n'\"],\n",
       " [\"b'Cyclecount39\", 'Heatcount29', '1', 'Temperature1363', \"\\\\n'\"],\n",
       " [\"b'Cyclecount40\", 'Heatcount30', '1', 'Temperature1352', \"\\\\n'\"],\n",
       " [\"b'Cyclecount41\", 'Heatcount31', '1', 'Temperature2116', \"\\\\n'\"],\n",
       " [\"b'Cyclecount42\", 'Heatcount32', '1', 'Temperature2105', \"\\\\n'\"],\n",
       " [\"b'Cyclecount43\", 'Heatcount32', '0', 'Temperature4031', \"\\\\n'\"],\n",
       " [\"b'Cyclecount44\", 'Heatcount32', '0', 'Temperature3998', \"\\\\n'\"],\n",
       " [\"b'Cyclecount45\", 'Heatcount33', '1', 'Temperature1191', \"\\\\n'\"],\n",
       " [\"b'Cyclecount46\", 'Heatcount34', '1', 'Temperature1322', \"\\\\n'\"],\n",
       " [\"b'Cyclecount47\", 'Heatcount34', '0', 'Temperature3411', \"\\\\n'\"],\n",
       " [\"b'Cyclecount48\", 'Heatcount35', '1', 'Temperature1273', \"\\\\n'\"],\n",
       " [\"b'Cyclecount49\", 'Heatcount36', '1', 'Temperature1497', \"\\\\n'\"],\n",
       " [\"b'Cyclecount50\", 'Heatcount36', '0', 'Temperature4031', \"\\\\n'\"],\n",
       " [\"b'Cyclecount51\", 'Heatcount37', '1', 'Temperature1364', \"\\\\n'\"],\n",
       " [\"b'Cyclecount52\", 'Heatcount38', '1', 'Temperature2935', \"\\\\n'\"],\n",
       " [\"b'Cyclecount53\", 'Heatcount39', '1', 'Temperature2943', \"\\\\n'\"],\n",
       " [\"b'Cyclecount54\", 'Heatcount40', '1', 'Temperature2948', \"\\\\n'\"],\n",
       " [\"b'Cyclecount55\", 'Heatcount40', '0', 'Temperature4030', \"\\\\n'\"],\n",
       " [\"b'Cyclecount56\", 'Heatcount40', '0', 'Temperature4027', \"\\\\n'\"],\n",
       " [\"b'Cyclecount57\", 'Heatcount40', '0', 'Temperature4028', \"\\\\n'\"],\n",
       " [\"b'Cyclecount58\", 'Heatcount40', '0', 'Temperature4027', \"\\\\n'\"],\n",
       " [\"b'Cyclecount59\", 'Heatcount40', '0', 'Temperature4024', \"\\\\n'\"],\n",
       " [\"b'Cyclecount60\", 'Heatcount40', '0', 'Temperature4006', \"\\\\n'\"],\n",
       " [\"b'Cyclecount61\", 'Heatcount41', '1', 'Temperature1386', \"\\\\n'\"],\n",
       " [\"b'Cyclecount62\", 'Heatcount42', '1', 'Temperature1013', \"\\\\n'\"],\n",
       " [\"b'Cyclecount63\", 'Heatcount43', '1', 'Temperature1022', \"\\\\n'\"],\n",
       " [\"b'Cyclecount64\", 'Heatcount44', '1', 'Temperature1014', \"\\\\n'\"],\n",
       " [\"b'Cyclecount65\", 'Heatcount45', '1', 'Temperature1013', \"\\\\n'\"],\n",
       " [\"b'Cyclecount66\", 'Heatcount46', '1', 'Temperature1022', \"\\\\n'\"],\n",
       " [\"b'Cyclecount67\", 'Heatcount47', '1', 'Temperature1021', \"\\\\n'\"],\n",
       " [\"b'Cyclecount68\", 'Heatcount48', '1', 'Temperature1012', \"\\\\n'\"],\n",
       " [\"b'Cyclecount69\", 'Heatcount49', '1', 'Temperature1012', \"\\\\n'\"],\n",
       " [\"b'Cyclecount70\", 'Heatcount50', '1', 'Temperature1011', \"\\\\n'\"],\n",
       " [\"b'Cyclecount71\", 'Heatcount51', '1', 'Temperature1020', \"\\\\n'\"],\n",
       " [\"b'Cyclecount72\", 'Heatcount52', '1', 'Temperature1019', \"\\\\n'\"],\n",
       " [\"b'Cyclecount73\", 'Heatcount53', '1', 'Temperature1019', \"\\\\n'\"],\n",
       " [\"b'Cyclecount74\", 'Heatcount54', '1', 'Temperature1020', \"\\\\n'\"],\n",
       " [\"b'Cyclecount75\", 'Heatcount55', '1', 'Temperature1011', \"\\\\n'\"],\n",
       " [\"b'Cyclecount76\", 'Heatcount56', '1', 'Temperature1009', \"\\\\n'\"],\n",
       " [\"b'Cyclecount77\", 'Heatcount57', '1', 'Temperature1008', \"\\\\n'\"],\n",
       " [\"b'Cyclecount78\", 'Heatcount58', '1', 'Temperature816', \"\\\\n'\"],\n",
       " [\"b'Cyclecount79\", 'Heatcount59', '1', 'Temperature770', \"\\\\n'\"],\n",
       " [\"b'Cyclecount80\", 'Heatcount60', '1', 'Temperature805', \"\\\\n'\"],\n",
       " [\"b'Cyclecount81\", 'Heatcount61', '1', 'Temperature1020', \"\\\\n'\"],\n",
       " [\"b'Cyclecount82\", 'Heatcount62', '1', 'Temperature1660', \"\\\\n'\"],\n",
       " [\"b'Cyclecount83\", 'Heatcount62', '0', 'Temperature4031', \"\\\\n'\"],\n",
       " [\"b'Cyclecount84\", 'Heatcount63', '1', 'Temperature2327', \"\\\\n'\"],\n",
       " [\"b'Cyclecount85\", 'Heatcount63', '0', 'Temperature4030', \"\\\\n'\"],\n",
       " [\"b'Cyclecount86\", 'Heatcount63', '0', 'Temperature4025', \"\\\\n'\"],\n",
       " [\"b'Cyclecount87\", 'Heatcount63', '0', 'Temperature4024', \"\\\\n'\"],\n",
       " [\"b'Cyclecount88\", 'Heatcount63', '0', 'Temperature4026', \"\\\\n'\"],\n",
       " [\"b'Cyclecount89\", 'Heatcount63', '0', 'Temperature4023', \"\\\\n'\"],\n",
       " [\"b'Cyclecount90\", 'Heatcount63', '0', 'Temperature4024', \"\\\\n'\"],\n",
       " [\"b'Cyclecount91\", 'Heatcount63', '0', 'Temperature4026', \"\\\\n'\"],\n",
       " [\"b'Cyclecount92\", 'Heatcount63', '0', 'Temperature4024', \"\\\\n'\"],\n",
       " [\"b'Cyclecount93\", 'Heatcount63', '0', 'Temperature4026', \"\\\\n'\"],\n",
       " [\"b'Cyclecount94\", 'Heatcount63', '0', 'Temperature4025', \"\\\\n'\"],\n",
       " [\"b'Cyclecount95\", 'Heatcount63', '0', 'Temperature4026', \"\\\\n'\"],\n",
       " [\"b'Cyclecount96\", 'Heatcount63', '0', 'Temperature4026', \"\\\\n'\"],\n",
       " [\"b'Cyclecount97\", 'Heatcount63', '0', 'Temperature4025', \"\\\\n'\"],\n",
       " [\"b'Cyclecount98\", 'Heatcount63', '0', 'Temperature4024', \"\\\\n'\"],\n",
       " [\"b'Cyclecount99\", 'Heatcount63', '0', 'Temperature4025', \"\\\\n'\"]]"
      ]
     },
     "execution_count": 84,
     "metadata": {},
     "output_type": "execute_result"
    }
   ],
   "source": [
    "split = [None] * len(lines)\n",
    "for index, item in enumerate(lines):\n",
    "    split[index] = (str(item)).split(',')\n",
    "split"
   ]
  },
  {
   "cell_type": "code",
   "execution_count": 85,
   "id": "c90abd9f",
   "metadata": {
    "scrolled": false
   },
   "outputs": [
    {
     "data": {
      "text/plain": [
       "[[\"b'Cyclecount1\", 'Heatcount1', '1', 'Temperature1908'],\n",
       " [\"b'Cyclecount1\", 'Heatcount1', '1', 'Temperature1879'],\n",
       " [\"b'Cyclecount2\", 'Heatcount2', '1', 'Temperature1895'],\n",
       " [\"b'Cyclecount3\", 'Heatcount3', '1', 'Temperature1899'],\n",
       " [\"b'Cyclecount4\", 'Heatcount4', '1', 'Temperature1906'],\n",
       " [\"b'Cyclecount5\", 'Heatcount5', '1', 'Temperature1906'],\n",
       " [\"b'Cyclecount6\", 'Heatcount6', '1', 'Temperature1500'],\n",
       " [\"b'Cyclecount7\", 'Heatcount7', '1', 'Temperature1094'],\n",
       " [\"b'Cyclecount8\", 'Heatcount8', '1', 'Temperature1332'],\n",
       " [\"b'Cyclecount9\", 'Heatcount9', '1', 'Temperature2901'],\n",
       " [\"b'Cyclecount10\", 'Heatcount10', '1', 'Temperature2900'],\n",
       " [\"b'Cyclecount11\", 'Heatcount10', '0', 'Temperature4031'],\n",
       " [\"b'Cyclecount12\", 'Heatcount10', '0', 'Temperature4027'],\n",
       " [\"b'Cyclecount13\", 'Heatcount10', '0', 'Temperature4028'],\n",
       " [\"b'Cyclecount14\", 'Heatcount10', '0', 'Temperature4027'],\n",
       " [\"b'Cyclecount15\", 'Heatcount10', '0', 'Temperature4028'],\n",
       " [\"b'Cyclecount16\", 'Heatcount10', '0', 'Temperature4023'],\n",
       " [\"b'Cyclecount17\", 'Heatcount10', '0', 'Temperature4024'],\n",
       " [\"b'Cyclecount18\", 'Heatcount10', '0', 'Temperature4024'],\n",
       " [\"b'Cyclecount19\", 'Heatcount11', '1', 'Temperature1433'],\n",
       " [\"b'Cyclecount20\", 'Heatcount12', '1', 'Temperature1094'],\n",
       " [\"b'Cyclecount21\", 'Heatcount13', '1', 'Temperature1085'],\n",
       " [\"b'Cyclecount22\", 'Heatcount14', '1', 'Temperature1093'],\n",
       " [\"b'Cyclecount23\", 'Heatcount15', '1', 'Temperature1128'],\n",
       " [\"b'Cyclecount24\", 'Heatcount16', '1', 'Temperature2074'],\n",
       " [\"b'Cyclecount25\", 'Heatcount17', '1', 'Temperature2090'],\n",
       " [\"b'Cyclecount26\", 'Heatcount18', '1', 'Temperature2083'],\n",
       " [\"b'Cyclecount27\", 'Heatcount19', '1', 'Temperature2082'],\n",
       " [\"b'Cyclecount28\", 'Heatcount20', '1', 'Temperature2081'],\n",
       " [\"b'Cyclecount29\", 'Heatcount21', '1', 'Temperature1783'],\n",
       " [\"b'Cyclecount30\", 'Heatcount22', '1', 'Temperature1000'],\n",
       " [\"b'Cyclecount31\", 'Heatcount23', '1', 'Temperature833'],\n",
       " [\"b'Cyclecount32\", 'Heatcount24', '1', 'Temperature832'],\n",
       " [\"b'Cyclecount33\", 'Heatcount25', '1', 'Temperature823'],\n",
       " [\"b'Cyclecount34\", 'Heatcount26', '1', 'Temperature923'],\n",
       " [\"b'Cyclecount35\", 'Heatcount27', '1', 'Temperature1377'],\n",
       " [\"b'Cyclecount36\", 'Heatcount27', '0', 'Temperature4044'],\n",
       " [\"b'Cyclecount37\", 'Heatcount28', '1', 'Temperature1862'],\n",
       " [\"b'Cyclecount38\", 'Heatcount28', '0', 'Temperature4030'],\n",
       " [\"b'Cyclecount39\", 'Heatcount29', '1', 'Temperature1363'],\n",
       " [\"b'Cyclecount40\", 'Heatcount30', '1', 'Temperature1352'],\n",
       " [\"b'Cyclecount41\", 'Heatcount31', '1', 'Temperature2116'],\n",
       " [\"b'Cyclecount42\", 'Heatcount32', '1', 'Temperature2105'],\n",
       " [\"b'Cyclecount43\", 'Heatcount32', '0', 'Temperature4031'],\n",
       " [\"b'Cyclecount44\", 'Heatcount32', '0', 'Temperature3998'],\n",
       " [\"b'Cyclecount45\", 'Heatcount33', '1', 'Temperature1191'],\n",
       " [\"b'Cyclecount46\", 'Heatcount34', '1', 'Temperature1322'],\n",
       " [\"b'Cyclecount47\", 'Heatcount34', '0', 'Temperature3411'],\n",
       " [\"b'Cyclecount48\", 'Heatcount35', '1', 'Temperature1273'],\n",
       " [\"b'Cyclecount49\", 'Heatcount36', '1', 'Temperature1497'],\n",
       " [\"b'Cyclecount50\", 'Heatcount36', '0', 'Temperature4031'],\n",
       " [\"b'Cyclecount51\", 'Heatcount37', '1', 'Temperature1364'],\n",
       " [\"b'Cyclecount52\", 'Heatcount38', '1', 'Temperature2935'],\n",
       " [\"b'Cyclecount53\", 'Heatcount39', '1', 'Temperature2943'],\n",
       " [\"b'Cyclecount54\", 'Heatcount40', '1', 'Temperature2948'],\n",
       " [\"b'Cyclecount55\", 'Heatcount40', '0', 'Temperature4030'],\n",
       " [\"b'Cyclecount56\", 'Heatcount40', '0', 'Temperature4027'],\n",
       " [\"b'Cyclecount57\", 'Heatcount40', '0', 'Temperature4028'],\n",
       " [\"b'Cyclecount58\", 'Heatcount40', '0', 'Temperature4027'],\n",
       " [\"b'Cyclecount59\", 'Heatcount40', '0', 'Temperature4024'],\n",
       " [\"b'Cyclecount60\", 'Heatcount40', '0', 'Temperature4006'],\n",
       " [\"b'Cyclecount61\", 'Heatcount41', '1', 'Temperature1386'],\n",
       " [\"b'Cyclecount62\", 'Heatcount42', '1', 'Temperature1013'],\n",
       " [\"b'Cyclecount63\", 'Heatcount43', '1', 'Temperature1022'],\n",
       " [\"b'Cyclecount64\", 'Heatcount44', '1', 'Temperature1014'],\n",
       " [\"b'Cyclecount65\", 'Heatcount45', '1', 'Temperature1013'],\n",
       " [\"b'Cyclecount66\", 'Heatcount46', '1', 'Temperature1022'],\n",
       " [\"b'Cyclecount67\", 'Heatcount47', '1', 'Temperature1021'],\n",
       " [\"b'Cyclecount68\", 'Heatcount48', '1', 'Temperature1012'],\n",
       " [\"b'Cyclecount69\", 'Heatcount49', '1', 'Temperature1012'],\n",
       " [\"b'Cyclecount70\", 'Heatcount50', '1', 'Temperature1011'],\n",
       " [\"b'Cyclecount71\", 'Heatcount51', '1', 'Temperature1020'],\n",
       " [\"b'Cyclecount72\", 'Heatcount52', '1', 'Temperature1019'],\n",
       " [\"b'Cyclecount73\", 'Heatcount53', '1', 'Temperature1019'],\n",
       " [\"b'Cyclecount74\", 'Heatcount54', '1', 'Temperature1020'],\n",
       " [\"b'Cyclecount75\", 'Heatcount55', '1', 'Temperature1011'],\n",
       " [\"b'Cyclecount76\", 'Heatcount56', '1', 'Temperature1009'],\n",
       " [\"b'Cyclecount77\", 'Heatcount57', '1', 'Temperature1008'],\n",
       " [\"b'Cyclecount78\", 'Heatcount58', '1', 'Temperature816'],\n",
       " [\"b'Cyclecount79\", 'Heatcount59', '1', 'Temperature770'],\n",
       " [\"b'Cyclecount80\", 'Heatcount60', '1', 'Temperature805'],\n",
       " [\"b'Cyclecount81\", 'Heatcount61', '1', 'Temperature1020'],\n",
       " [\"b'Cyclecount82\", 'Heatcount62', '1', 'Temperature1660'],\n",
       " [\"b'Cyclecount83\", 'Heatcount62', '0', 'Temperature4031'],\n",
       " [\"b'Cyclecount84\", 'Heatcount63', '1', 'Temperature2327'],\n",
       " [\"b'Cyclecount85\", 'Heatcount63', '0', 'Temperature4030'],\n",
       " [\"b'Cyclecount86\", 'Heatcount63', '0', 'Temperature4025'],\n",
       " [\"b'Cyclecount87\", 'Heatcount63', '0', 'Temperature4024'],\n",
       " [\"b'Cyclecount88\", 'Heatcount63', '0', 'Temperature4026'],\n",
       " [\"b'Cyclecount89\", 'Heatcount63', '0', 'Temperature4023'],\n",
       " [\"b'Cyclecount90\", 'Heatcount63', '0', 'Temperature4024'],\n",
       " [\"b'Cyclecount91\", 'Heatcount63', '0', 'Temperature4026'],\n",
       " [\"b'Cyclecount92\", 'Heatcount63', '0', 'Temperature4024'],\n",
       " [\"b'Cyclecount93\", 'Heatcount63', '0', 'Temperature4026'],\n",
       " [\"b'Cyclecount94\", 'Heatcount63', '0', 'Temperature4025'],\n",
       " [\"b'Cyclecount95\", 'Heatcount63', '0', 'Temperature4026'],\n",
       " [\"b'Cyclecount96\", 'Heatcount63', '0', 'Temperature4026'],\n",
       " [\"b'Cyclecount97\", 'Heatcount63', '0', 'Temperature4025'],\n",
       " [\"b'Cyclecount98\", 'Heatcount63', '0', 'Temperature4024'],\n",
       " [\"b'Cyclecount99\", 'Heatcount63', '0', 'Temperature4025']]"
      ]
     },
     "execution_count": 85,
     "metadata": {},
     "output_type": "execute_result"
    }
   ],
   "source": [
    "for i in split:\n",
    "    i.pop()\n",
    "split"
   ]
  },
  {
   "cell_type": "code",
   "execution_count": null,
   "id": "873bf23f",
   "metadata": {},
   "outputs": [],
   "source": []
  },
  {
   "cell_type": "code",
   "execution_count": 86,
   "id": "76a5d129",
   "metadata": {},
   "outputs": [
    {
     "data": {
      "text/plain": [
       "array([ 1,  1,  2,  3,  4,  5,  6,  7,  8,  9, 10, 11, 12, 13, 14, 15, 16,\n",
       "       17, 18, 19, 20, 21, 22, 23, 24, 25, 26, 27, 28, 29, 30, 31, 32, 33,\n",
       "       34, 35, 36, 37, 38, 39, 40, 41, 42, 43, 44, 45, 46, 47, 48, 49, 50,\n",
       "       51, 52, 53, 54, 55, 56, 57, 58, 59, 60, 61, 62, 63, 64, 65, 66, 67,\n",
       "       68, 69, 70, 71, 72, 73, 74, 75, 76, 77, 78, 79, 80, 81, 82, 83, 84,\n",
       "       85, 86, 87, 88, 89, 90, 91, 92, 93, 94, 95, 96, 97, 98, 99])"
      ]
     },
     "execution_count": 86,
     "metadata": {},
     "output_type": "execute_result"
    }
   ],
   "source": [
    "cyclecount = [None] * len(lines)\n",
    "for index, item in enumerate(split):\n",
    "    cyclecount[index] = item[0].strip(\"b'Cyclecount\")\n",
    "cyclecount = np.array(cyclecount, dtype='int')\n",
    "cyclecount"
   ]
  },
  {
   "cell_type": "code",
   "execution_count": 87,
   "id": "d57405a2",
   "metadata": {},
   "outputs": [
    {
     "data": {
      "text/plain": [
       "array([ 1,  1,  2,  3,  4,  5,  6,  7,  8,  9, 10, 10, 10, 10, 10, 10, 10,\n",
       "       10, 10, 11, 12, 13, 14, 15, 16, 17, 18, 19, 20, 21, 22, 23, 24, 25,\n",
       "       26, 27, 27, 28, 28, 29, 30, 31, 32, 32, 32, 33, 34, 34, 35, 36, 36,\n",
       "       37, 38, 39, 40, 40, 40, 40, 40, 40, 40, 41, 42, 43, 44, 45, 46, 47,\n",
       "       48, 49, 50, 51, 52, 53, 54, 55, 56, 57, 58, 59, 60, 61, 62, 62, 63,\n",
       "       63, 63, 63, 63, 63, 63, 63, 63, 63, 63, 63, 63, 63, 63, 63])"
      ]
     },
     "execution_count": 87,
     "metadata": {},
     "output_type": "execute_result"
    }
   ],
   "source": [
    "heatcount = [None] * len(lines)\n",
    "for index, item in enumerate(split):\n",
    "    heatcount[index] = item[1].strip(\"Heatcount\")\n",
    "heatcount = np.array(heatcount, dtype='int')\n",
    "heatcount"
   ]
  },
  {
   "cell_type": "code",
   "execution_count": 88,
   "id": "5e57fa44",
   "metadata": {},
   "outputs": [
    {
     "data": {
      "text/plain": [
       "array([1, 1, 1, 1, 1, 1, 1, 1, 1, 1, 1, 0, 0, 0, 0, 0, 0, 0, 0, 1, 1, 1,\n",
       "       1, 1, 1, 1, 1, 1, 1, 1, 1, 1, 1, 1, 1, 1, 0, 1, 0, 1, 1, 1, 1, 0,\n",
       "       0, 1, 1, 0, 1, 1, 0, 1, 1, 1, 1, 0, 0, 0, 0, 0, 0, 1, 1, 1, 1, 1,\n",
       "       1, 1, 1, 1, 1, 1, 1, 1, 1, 1, 1, 1, 1, 1, 1, 1, 1, 0, 1, 0, 0, 0,\n",
       "       0, 0, 0, 0, 0, 0, 0, 0, 0, 0, 0, 0])"
      ]
     },
     "execution_count": 88,
     "metadata": {},
     "output_type": "execute_result"
    }
   ],
   "source": [
    "heater_status = [None] * len(lines)\n",
    "for index, item in enumerate(split):\n",
    "    heater_status[index] = item[2]\n",
    "heater_status = np.array(heater_status, dtype='int')\n",
    "heater_status"
   ]
  },
  {
   "cell_type": "code",
   "execution_count": 89,
   "id": "246aa10a",
   "metadata": {},
   "outputs": [
    {
     "data": {
      "text/plain": [
       "array([1908, 1879, 1895, 1899, 1906, 1906, 1500, 1094, 1332, 2901, 2900,\n",
       "       4031, 4027, 4028, 4027, 4028, 4023, 4024, 4024, 1433, 1094, 1085,\n",
       "       1093, 1128, 2074, 2090, 2083, 2082, 2081, 1783, 1000,  833,  832,\n",
       "        823,  923, 1377, 4044, 1862, 4030, 1363, 1352, 2116, 2105, 4031,\n",
       "       3998, 1191, 1322, 3411, 1273, 1497, 4031, 1364, 2935, 2943, 2948,\n",
       "       4030, 4027, 4028, 4027, 4024, 4006, 1386, 1013, 1022, 1014, 1013,\n",
       "       1022, 1021, 1012, 1012, 1011, 1020, 1019, 1019, 1020, 1011, 1009,\n",
       "       1008,  816,  770,  805, 1020, 1660, 4031, 2327, 4030, 4025, 4024,\n",
       "       4026, 4023, 4024, 4026, 4024, 4026, 4025, 4026, 4026, 4025, 4024,\n",
       "       4025])"
      ]
     },
     "execution_count": 89,
     "metadata": {},
     "output_type": "execute_result"
    }
   ],
   "source": [
    "temperatures_raw = [None] * len(lines)\n",
    "for index, item in enumerate(split):\n",
    "    temperatures_raw[index] = item[3].strip(\"Temperature\")\n",
    "temperatures_raw = np.array(temperatures_raw, dtype='int')\n",
    "temperatures_raw"
   ]
  },
  {
   "cell_type": "code",
   "execution_count": 90,
   "id": "e08c8e0a",
   "metadata": {},
   "outputs": [
    {
     "data": {
      "text/plain": [
       "array([ 32667.45283019,  33611.49547632,  33087.07124011,  32957.34597156,\n",
       "        32731.63693599,  32731.63693599,  49305.        ,  78179.61608775,\n",
       "        59118.24324324,  11730.09307135,  11743.96551724,    452.49317787,\n",
       "          481.25155202,    474.05660377,    481.25155202,    474.05660377,\n",
       "          510.06711409,    502.85785288,    502.85785288,  52942.77739009,\n",
       "        78179.61608775,  79064.51612903,  78277.21866423,  74964.09574468,\n",
       "        27771.69720347,  27340.90909091,  27528.56457033,  27555.47550432,\n",
       "        27582.41230178,  36955.69265283,  88207.5       , 111605.04201681,\n",
       "       111773.4375    , 113307.41190765,  97943.66197183,  56254.90196078,\n",
       "          359.42136499,  34178.57142857,    459.67741935,  57125.45854732,\n",
       "        57822.11538462,  26654.7731569 ,  26942.99287411,    452.49317787,\n",
       "          691.47073537,  69491.18387909,  59781.01361573,   5715.03957784,\n",
       "        63179.10447761,  49460.92184369,    452.49317787,  57062.68328446,\n",
       "        11264.05451448,  11155.96330275,  11088.70420624,    459.67741935,\n",
       "          481.25155202,    474.05660377,    481.25155202,    502.85785288,\n",
       "          633.17523714,  55704.54545455,  86709.77295163,  85695.20547945,\n",
       "        86596.15384615,  86709.77295163,  85695.20547945,  85807.05190989,\n",
       "        86823.61660079,  86823.61660079,  86937.68545994,  85919.11764706,\n",
       "        86031.4033366 ,  86031.4033366 ,  85919.11764706,  86937.68545994,\n",
       "        87166.50148662,  87281.25      , 114523.89705882, 123068.18181818,\n",
       "       116478.26086957,  85919.11764706,  41805.72289157,    452.49317787,\n",
       "        21653.63128492,    459.67741935,    495.65217391,    502.85785288,\n",
       "          488.45007452,    510.06711409,    502.85785288,    488.45007452,\n",
       "          502.85785288,    488.45007452,    495.65217391,    488.45007452,\n",
       "          488.45007452,    495.65217391,    502.85785288,    495.65217391])"
      ]
     },
     "execution_count": 90,
     "metadata": {},
     "output_type": "execute_result"
    }
   ],
   "source": [
    "# convert raw temp to real temp\n",
    "R_2 = 28500\n",
    "therm_resistances = R_2 * ((4095 / temperatures_raw) - 1)\n",
    "therm_resistances"
   ]
  },
  {
   "cell_type": "code",
   "execution_count": 91,
   "id": "4c22b530",
   "metadata": {},
   "outputs": [],
   "source": [
    "R_0 = 30000 # resistance of thermistor at room temperature\n",
    "T_0 = 298.15 # 20C in Kelvin\n",
    "# beta for cryogenic temps\n",
    "#B = 3454\n",
    "# beta for 25/85 C, we're aiming for 25C, room temp\n",
    "B = 3943\n",
    "r_inf = R_0 * np.exp(-B / T_0)"
   ]
  },
  {
   "cell_type": "code",
   "execution_count": 92,
   "id": "3e3ca056",
   "metadata": {
    "scrolled": false
   },
   "outputs": [
    {
     "data": {
      "text/plain": [
       "array([296.24189746, 295.60917539, 295.95809594, 296.04538922,\n",
       "       296.19821692, 296.19821692, 287.35475297, 278.01479642,\n",
       "       283.6031835 , 320.93839313, 320.90752078, 436.62141571,\n",
       "       433.66249275, 434.38213963, 433.66249275, 434.38213963,\n",
       "       430.90652378, 431.57790054, 431.57790054, 285.87169425,\n",
       "       278.01479642, 277.79434196, 277.99034142, 278.84053573,\n",
       "       299.90020687, 300.25722894, 300.10091555, 300.07859995,\n",
       "       300.05628804, 293.52191725, 275.66908034, 271.20801918,\n",
       "       271.17989678, 270.92591793, 273.66585223, 284.61951777,\n",
       "       448.04631104, 295.23885303, 435.86114154, 284.30436645,\n",
       "       284.05610157, 300.83947428, 300.59281479, 436.62141571,\n",
       "       417.03883518, 280.34347885, 283.37595345, 340.88971797,\n",
       "       282.25448161, 287.28864706, 436.62141571, 284.3269074 ,\n",
       "       322.00093496, 322.25469159, 322.41403821, 435.86114154,\n",
       "       433.66249275, 434.38213963, 433.66249275, 431.57790054,\n",
       "       420.96019369, 284.82164636, 275.99953373, 276.2271032 ,\n",
       "       276.02486738, 275.99953373, 276.2271032 , 276.20186557,\n",
       "       275.97418794, 275.97418794, 275.94882997, 276.17661605,\n",
       "       276.1513546 , 276.1513546 , 276.17661605, 275.94882997,\n",
       "       275.89807742, 275.87268276, 270.72727033, 269.39633185,\n",
       "       270.41310179, 276.17661605, 290.85200741, 436.62141571,\n",
       "       305.68586751, 435.86114154, 432.2607709 , 431.57790054,\n",
       "       432.95550553, 430.90652378, 431.57790054, 432.95550553,\n",
       "       431.57790054, 432.95550553, 432.2607709 , 432.95550553,\n",
       "       432.95550553, 432.2607709 , 431.57790054, 432.2607709 ])"
      ]
     },
     "execution_count": 92,
     "metadata": {},
     "output_type": "execute_result"
    }
   ],
   "source": [
    "# Beta equation from wikipedia, gives absolute temps\n",
    "T = B / (np.log(therm_resistances / r_inf))\n",
    "T"
   ]
  },
  {
   "cell_type": "code",
   "execution_count": 93,
   "id": "9410e09f",
   "metadata": {},
   "outputs": [
    {
     "data": {
      "text/plain": [
       "array([  0,   3,   6,   9,  12,  15,  18,  21,  24,  27,  30,  33,  36,\n",
       "        39,  42,  45,  48,  51,  54,  57,  60,  63,  66,  69,  72,  75,\n",
       "        78,  81,  84,  87,  90,  93,  96,  99, 102, 105, 108, 111, 114,\n",
       "       117, 120, 123, 126, 129, 132, 135, 138, 141, 144, 147, 150, 153,\n",
       "       156, 159, 162, 165, 168, 171, 174, 177, 180, 183, 186, 189, 192,\n",
       "       195, 198, 201, 204, 207, 210, 213, 216, 219, 222, 225, 228, 231,\n",
       "       234, 237, 240, 243, 246, 249, 252, 255, 258, 261, 264, 267, 270,\n",
       "       273, 276, 279, 282, 285, 288, 291, 294, 297])"
      ]
     },
     "execution_count": 93,
     "metadata": {},
     "output_type": "execute_result"
    }
   ],
   "source": [
    "# use cycle time here\n",
    "time =  3 * cyclecount\n",
    "time[0] = 0\n",
    "time"
   ]
  },
  {
   "cell_type": "code",
   "execution_count": 108,
   "id": "c57fc8ee",
   "metadata": {},
   "outputs": [],
   "source": [
    "heater_status_clone = np.copy(heater_status)\n",
    "for index, item in enumerate(T):\n",
    "    if heater_status_clone[index] == 1:\n",
    "        heater_status_clone[index] = item\n",
    "    else:\n",
    "        # by setting to -100, we effectively remove these points from the window\n",
    "        heater_status_clone[index] = -100"
   ]
  },
  {
   "cell_type": "code",
   "execution_count": 114,
   "id": "227c68dc",
   "metadata": {},
   "outputs": [
    {
     "data": {
      "text/plain": [
       "<matplotlib.legend.Legend at 0x7ff42853d280>"
      ]
     },
     "execution_count": 114,
     "metadata": {},
     "output_type": "execute_result"
    },
    {
     "data": {
      "image/png": "[encoded data removed]",
      "text/plain": [
       "<Figure size 432x288 with 1 Axes>"
      ]
     },
     "metadata": {
      "needs_background": "light"
     },
     "output_type": "display_data"
    }
   ],
   "source": [
    "x = time\n",
    "y1 = T\n",
    "y2 = heater_status_clone\n",
    "#y2 = T * heater_status\n",
    "\n",
    "fig, ax = plt.subplots()\n",
    "\n",
    "# when the heater was on, the points are red, when it was off, the points are blue\n",
    "ax.scatter(x, y1, color='blue', label='Heater Off')\n",
    "ax.scatter(x, y2, color='red', label='Heater On')\n",
    "#ax.plot(x, y1, color='orange')\n",
    "ax.set_title('Payload Temperature Over Duration of STLN Experiment')\n",
    "ax.set_xlabel('Time (s)')\n",
    "ax.set_ylabel('Temperature (K)')\n",
    "ax.set_ylim(np.min(T)-10, np.max(T)+10)\n",
    "ax.legend(loc='best')"
   ]
  },
  {
   "cell_type": "code",
   "execution_count": 103,
   "id": "a327e703",
   "metadata": {},
   "outputs": [
    {
     "data": {
      "text/plain": [
       "[<matplotlib.axis.YTick at 0x7ff4080f9be0>,\n",
       " <matplotlib.axis.YTick at 0x7ff4080f9460>]"
      ]
     },
     "execution_count": 103,
     "metadata": {},
     "output_type": "execute_result"
    },
    {
     "data": {
      "image/png": "[encoded data removed]",
      "text/plain": [
       "<Figure size 432x288 with 1 Axes>"
      ]
     },
     "metadata": {
      "needs_background": "light"
     },
     "output_type": "display_data"
    }
   ],
   "source": [
    "x = time\n",
    "y = heater_status\n",
    "\n",
    "fig, ax = plt.subplots()\n",
    "\n",
    "ax.plot(x, y, label='Duty Cycle')\n",
    "ax.set_title('Duty Cycle of Heater')\n",
    "ax.set_xlabel('Time (s)')\n",
    "ax.set_ylabel('Heater On/Off')\n",
    "#ax.text(time[-1] + 20, 0.05, '1 = ON, 0 = OFF')\n",
    "ax.set_yticks((np.arange(0, 2)))"
   ]
  },
  {
   "cell_type": "code",
   "execution_count": null,
   "id": "df645cea",
   "metadata": {},
   "outputs": [],
   "source": []
  }
 ],
 "metadata": {
  "kernelspec": {
   "display_name": "Python 3 (ipykernel)",
   "language": "python",
   "name": "python3"
  },
  "language_info": {
   "codemirror_mode": {
    "name": "ipython",
    "version": 3
   },
   "file_extension": ".py",
   "mimetype": "text/x-python",
   "name": "python",
   "nbconvert_exporter": "python",
   "pygments_lexer": "ipython3",
   "version": "3.9.7"
  }
 },
 "nbformat": 4,
 "nbformat_minor": 5
}
